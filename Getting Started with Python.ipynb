{
 "cells": [
  {
   "cell_type": "markdown",
   "metadata": {},
   "source": [
    "# Getting Started with Python\n",
    "First off, I'm using a Jupyter notebook write now to write all of this code. Notebooks are extremely handy because you can document your code with markdown as you go, and it integrates a bunch of other cool things. Code blocks that you can individually run are extremely handy as well.\n",
    "\n",
    "### Basic syntax\n",
    "Lets discuss some basic syntax. No demo would be complete if we didn't have a \"Hello World\" line:"
   ]
  },
  {
   "cell_type": "code",
   "execution_count": null,
   "metadata": {
    "collapsed": false
   },
   "outputs": [],
   "source": [
    "print(\"Hello World!\")"
   ]
  },
  {
   "cell_type": "markdown",
   "metadata": {},
   "source": [
    "That was easy. Let's set some variables. Variables hold data, and in Python variables can dynamically change types:"
   ]
  },
  {
   "cell_type": "code",
   "execution_count": null,
   "metadata": {
    "collapsed": true
   },
   "outputs": [],
   "source": [
    "# string\n",
    "x = \"Hello World!\"\n",
    "print(x)\n",
    "\n",
    "# int\n",
    "x = 42\n",
    "print(x)\n",
    "\n",
    "# float\n",
    "x = 0.83\n",
    "print(x)\n",
    "\n",
    "# bool\n",
    "x = True\n",
    "print(x)"
   ]
  },
  {
   "cell_type": "markdown",
   "metadata": {},
   "source": [
    "All of the basic arithmetic stuff you have seen in other languages works in Python except increment and decrement:"
   ]
  },
  {
   "cell_type": "code",
   "execution_count": null,
   "metadata": {
    "collapsed": false
   },
   "outputs": [],
   "source": [
    "x = 5\n",
    "x += 5\n",
    "print(x)\n",
    "\n",
    "\n",
    "# note that in Python 3, this is floating point division. \n",
    "# \"//\" is integer division\n",
    "x = x / 3\n",
    "print(x)"
   ]
  },
  {
   "cell_type": "markdown",
   "metadata": {},
   "source": [
    "### NoneType\n",
    "This is really important. Any variable can be of type None, which is basically equivalent to Null. It essentially does not have a value, and this can be tested for so that you can tell if you assigned a value to a variable."
   ]
  },
  {
   "cell_type": "code",
   "execution_count": null,
   "metadata": {
    "collapsed": false
   },
   "outputs": [],
   "source": [
    "tmp = None\n",
    "if tmp is None:\n",
    "    print(\"Hope your demo is going well future Tyler!\")\n",
    "else:\n",
    "    print(\"Something is seriously wrong, \\\n",
    "    abort the talk now and cut your losses\")\n",
    "    \n",
    "tmp = 12\n",
    "if tmp is None:\n",
    "    print(\"This time this shouldn't execute. Hooray!\")\n",
    "else:\n",
    "    print(\"This time the else statement should execute.\")"
   ]
  },
  {
   "cell_type": "markdown",
   "metadata": {},
   "source": [
    "### More complicated data types\n",
    "Python has quite a few really useful data types that make data science programming a breeze."
   ]
  },
  {
   "cell_type": "code",
   "execution_count": null,
   "metadata": {
    "collapsed": true
   },
   "outputs": [],
   "source": [
    "# lists -- basically a vector but with more features\n",
    "# elements can be anything and don't have to be the same thing\n",
    "fourty_two = [\"42\", 42, \n",
    "              \"The answer to the ultimate question of life, \\\n",
    "              the universe, and everything\"]\n",
    "print(fourty_two)\n",
    "\n",
    "# slicing, this is pretty awesome\n",
    "print(fourty_two[1:3])\n",
    "\n",
    "# you can have lists of lists\n",
    "numbers = [fourty_two, [\"one\", 1, 1.0]]\n",
    "print(numbers)\n",
    "\n",
    "# basically you can do just about anything with lists\n",
    "# but the next data structure is even nicer\n",
    "\n",
    "# dictionary -- essentially a unique keyed map \n",
    "#(implemented as a hash map)\n",
    "id_dict = {\"Tyler\": 42, \"Jacob\": 0}\n",
    "id_dict[\"Camille\"] = 17\n",
    "other_dict = dict() \n",
    "print(id_dict.keys()) # notice that the keys are not in any order\n",
    "\n",
    "\n",
    "\n",
    "# these are incredibly useful\n",
    "# keys can be anything that can be hashed, and values can be anything\n",
    "\n",
    "# tuples -- sort of like lists, but immutable\n",
    "tup = (numbers, id_dict)\n",
    "print(tup)\n",
    "\n",
    "# sets -- pretty much a set, but again no order. \n",
    "# Implemented similarly to a dictionary\n",
    "set_thing = set()\n",
    "set_thing.add(1)\n",
    "set_thing.add(2)\n",
    "set_thing.add(3)\n",
    "set_thing.add(1)\n",
    "\n",
    "if 1 in set_thing:\n",
    "    print(\"It's in!\")\n",
    "print(set_thing)"
   ]
  },
  {
   "cell_type": "markdown",
   "metadata": {},
   "source": [
    "### Flow Control\n",
    "One of the above examples mentions a bit about flow control, specificaly if-else statements. The format normally looks something like this:"
   ]
  },
  {
   "cell_type": "code",
   "execution_count": null,
   "metadata": {
    "collapsed": false
   },
   "outputs": [],
   "source": [
    "temp = 12\n",
    "temp1 = 13\n",
    "if temp == 13 or temp1 == 14:\n",
    "    print(\"13\")\n",
    "elif (temp == 12) and temp1 == 13:\n",
    "    print(\"12\")\n",
    "else:\n",
    "    print(\"You stupid\")"
   ]
  },
  {
   "cell_type": "markdown",
   "metadata": {},
   "source": [
    "Notice the \"and\" and \"or\" statements above. Those are logical operators, and make the code much more readable than traditional logical operators. \"And\" simply means that both statements must be true, and \"or\" means that one or both must be true.\n",
    "\n",
    "#### For loops ####\n",
    "The other most useful type of flow control is the for loop. Python for loops are interesting in that they are always iterating over a list or generated values, not checking for a terminating condition like in C++ or other languages. For example, \n",
    "\n",
    "```c++\n",
    "//C++\n",
    "for(i = 0; i < 10; i++) {\n",
    "    //do something\n",
    "}\n",
    "```\n",
    "\n",
    "```python\n",
    "# python\n",
    "for i in range(10):\n",
    "    # do something\n",
    "```\n",
    "\n",
    "These two statements are equivalent. Here are a few more examples:"
   ]
  },
  {
   "cell_type": "code",
   "execution_count": null,
   "metadata": {
    "collapsed": false
   },
   "outputs": [],
   "source": [
    "greeting_words = [\"Hello\", \"Greetings\", \"Ahoy\"]\n",
    "\n",
    "# very un-pythonic -- don't do this\n",
    "for i in range(len(greeting_words)):\n",
    "    print(greeting_words[i])\n",
    "    \n",
    "# very pythonic -- simple and elegant\n",
    "# do this\n",
    "for i in greeting_words:\n",
    "    print(i)\n",
    "    \n",
    "# you can also iterate over pairs of things -- unpacking arguments\n",
    "new_word_pairs = [(\"Hello\", 1), (\"World\", 2)]\n",
    "for i, j in new_word_pairs:\n",
    "    print(i, j)"
   ]
  },
  {
   "cell_type": "markdown",
   "metadata": {},
   "source": [
    "Python also has while loops, though it does not have switch statements."
   ]
  },
  {
   "cell_type": "code",
   "execution_count": null,
   "metadata": {
    "collapsed": false
   },
   "outputs": [],
   "source": [
    "i = 0\n",
    "while i < 10:\n",
    "    print(i)\n",
    "    i += 1"
   ]
  },
  {
   "cell_type": "markdown",
   "metadata": {},
   "source": [
    "## Functions\n",
    "\n",
    "Like all other programming languages, Python has functions that allow you to reuse code. Here are a few examples:"
   ]
  },
  {
   "cell_type": "code",
   "execution_count": null,
   "metadata": {
    "collapsed": false
   },
   "outputs": [],
   "source": [
    "# function to increment the value passed\n",
    "# notice that it doesn't specify a return type\n",
    "# or a type on the variable it takes\n",
    "\n",
    "def increment(x):\n",
    "    return x+1\n",
    "\n",
    "print(increment(87.8))"
   ]
  },
  {
   "cell_type": "markdown",
   "metadata": {},
   "source": [
    "Functions can take multiple arguments and return multiple arguments."
   ]
  },
  {
   "cell_type": "code",
   "execution_count": null,
   "metadata": {
    "collapsed": false
   },
   "outputs": [],
   "source": [
    "def increment_two(x, y):\n",
    "    return x+1, y+1\n",
    "\n",
    "a, b = increment_two(2, 3)\n",
    "print(a, b)"
   ]
  },
  {
   "cell_type": "markdown",
   "metadata": {},
   "source": [
    "Python has positional and keyword arguments:"
   ]
  },
  {
   "cell_type": "code",
   "execution_count": null,
   "metadata": {
    "collapsed": false
   },
   "outputs": [],
   "source": [
    "# this probably isn't how it is implemented\n",
    "def my_range(end, start=0, factor=None):\n",
    "    i = start\n",
    "    rv = []\n",
    "    if factor is None:\n",
    "        factor = 1\n",
    "    while i < end:\n",
    "        rv.append(i)\n",
    "        i += factor\n",
    "    return rv\n",
    "\n",
    "print(my_range(10))\n",
    "print(my_range(10, 1, 1))\n",
    "print(my_range(10, factor=2))\n",
    "print(my_range(start=3, end=10, factor=3))"
   ]
  },
  {
   "cell_type": "markdown",
   "metadata": {},
   "source": [
    "Python also has a number of other features such as classes, lambda functions, and a whole host of other things that I don't have time to discuss. Check out my other demo in this same repo!"
   ]
  }
 ],
 "metadata": {
  "kernelspec": {
   "display_name": "Python 3",
   "language": "python",
   "name": "python3"
  },
  "language_info": {
   "codemirror_mode": {
    "name": "ipython",
    "version": 3
   },
   "file_extension": ".py",
   "mimetype": "text/x-python",
   "name": "python",
   "nbconvert_exporter": "python",
   "pygments_lexer": "ipython3",
   "version": "3.6.0"
  }
 },
 "nbformat": 4,
 "nbformat_minor": 2
}
