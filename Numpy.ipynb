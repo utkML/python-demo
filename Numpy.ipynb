{
 "cells": [
  {
   "cell_type": "markdown",
   "metadata": {},
   "source": [
    "# NumPy\n",
    "NumPy is a fantastic tool used widely in scientific computing and data science. It is a matrix library implemented in C so it is extremely fast, and it has tons of different operations that will optimize themselves based on the data you give it."
   ]
  },
  {
   "cell_type": "code",
   "execution_count": null,
   "metadata": {
    "collapsed": true
   },
   "outputs": [],
   "source": [
    "# import the library -- this convention is used all over the place\n",
    "import numpy as np"
   ]
  },
  {
   "cell_type": "markdown",
   "metadata": {},
   "source": [
    "## The core concept\n",
    "The core of this package is the array, the array/matrix data type. These can be any dimension and can be created out of lists or from other methods, but every element must be the same type (unlike a python list)."
   ]
  },
  {
   "cell_type": "code",
   "execution_count": null,
   "metadata": {
    "collapsed": false
   },
   "outputs": [],
   "source": [
    "np.array([1, 2, 3])"
   ]
  },
  {
   "cell_type": "markdown",
   "metadata": {},
   "source": [
    "A multidimensional example:"
   ]
  },
  {
   "cell_type": "code",
   "execution_count": null,
   "metadata": {
    "collapsed": false
   },
   "outputs": [],
   "source": [
    "x = [1, 2, 3]\n",
    "y = [4, 5, 6]\n",
    "z = [x, y]\n",
    "print(z)\n",
    "arr = np.array(z, dtype='float32') # converted it to floating point\n",
    "print(arr)"
   ]
  },
  {
   "cell_type": "markdown",
   "metadata": {},
   "source": [
    "## Useful functions\n",
    "NumPy has a bunch of useful functions to make your life easier when creating and working with matrices. However, first a few properties you should know:"
   ]
  },
  {
   "cell_type": "code",
   "execution_count": null,
   "metadata": {
    "collapsed": false
   },
   "outputs": [],
   "source": [
    "# get the number of dimensions\n",
    "# .format is super useful, check it out on your own\n",
    "print(\"NDim: {}\".format(arr.ndim))\n",
    "\n",
    "# number of elements in each dimension\n",
    "# (in a 2d array, number of rows and number of columns)\n",
    "print(\"Shape: {}\".format(arr.shape))\n",
    "\n",
    "# print the total number of objects in the array\n",
    "print(\"Size: {}\".format(arr.size))"
   ]
  },
  {
   "cell_type": "markdown",
   "metadata": {},
   "source": [
    "### Creating Matrices\n",
    "NumPy has a bunch of ways to create matrices using functions:"
   ]
  },
  {
   "cell_type": "code",
   "execution_count": null,
   "metadata": {
    "collapsed": false
   },
   "outputs": [],
   "source": [
    "# all zeros\n",
    "zeros_matrix = np.zeros((3, 4)) # note the shape must be a tuple\n",
    "print(zeros_matrix)\n",
    "\n",
    "print() \n",
    "\n",
    "# all ones\n",
    "ones_matrix = np.ones((2, 4))\n",
    "print(ones_matrix)\n",
    "\n",
    "print()\n",
    "\n",
    "# array ascending from 0 to (not including) 1 in steps of 0.25\n",
    "range_matrix = np.arange(0, 1, 0.25)\n",
    "print(range_matrix)\n",
    "\n",
    "print()\n",
    "\n",
    "# random data!\n",
    "random_matrix = np.random.rand(4, 1)\n",
    "print(random_matrix)"
   ]
  },
  {
   "cell_type": "markdown",
   "metadata": {},
   "source": [
    "### Ufuncs\n",
    "NumPy has these operations called ufuncs, which is essentially a fancy name for uniform operations applied to every element in the array. These are optimized and run extremely quickly, especially when compared to doing them using normal python code. Luckily, you don't have to worry about them as they are overloaded."
   ]
  },
  {
   "cell_type": "code",
   "execution_count": null,
   "metadata": {
    "collapsed": false
   },
   "outputs": [],
   "source": [
    "twos_matrix = ones_matrix + ones_matrix\n",
    "print(twos_matrix)\n",
    "\n",
    "one_half_matrix = 1 / twos_matrix\n",
    "print(one_half_matrix)\n",
    "\n",
    "fours_matrix = 2 * twos_matrix\n",
    "print(fours_matrix)"
   ]
  },
  {
   "cell_type": "markdown",
   "metadata": {},
   "source": [
    "There is a lot more that we could cover with NumPy, but for our purposes this should be enough. When combined with scipy it has extensive libraries for everything you could imagine doing with a matrix. However, the real power of NumPy is that it powers a bunch of other libraries, namely the next one we are going to talk about: Pandas."
   ]
  },
  {
   "cell_type": "code",
   "execution_count": null,
   "metadata": {
    "collapsed": true
   },
   "outputs": [],
   "source": []
  }
 ],
 "metadata": {
  "kernelspec": {
   "display_name": "Python 3",
   "language": "python",
   "name": "python3"
  },
  "language_info": {
   "codemirror_mode": {
    "name": "ipython",
    "version": 3
   },
   "file_extension": ".py",
   "mimetype": "text/x-python",
   "name": "python",
   "nbconvert_exporter": "python",
   "pygments_lexer": "ipython3",
   "version": "3.6.0"
  }
 },
 "nbformat": 4,
 "nbformat_minor": 2
}
